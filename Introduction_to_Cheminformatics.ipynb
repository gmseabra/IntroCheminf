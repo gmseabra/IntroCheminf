{
 "cells": [
  {
   "cell_type": "markdown",
   "id": "2207f3f1-9359-46eb-9970-338418d684e9",
   "metadata": {
    "tags": []
   },
   "source": [
    "# <font color='blue' style=\"font-size: 74px;\">**Introduction to Cheminformatics**</font>"
   ]
  },
  {
   "cell_type": "markdown",
   "id": "a89ab6bf-77c5-4db3-95e6-60a88eef67be",
   "metadata": {},
   "source": [
    "<div>\n",
    "<img src=\"media/cheminformatics.png\" width=\"900\" height=350 style=\"background-color:white;padding:20px;\"/>\n",
    "</div>"
   ]
  },
  {
   "cell_type": "markdown",
   "id": "8e4064b1-4398-437a-b7fd-921e7c068463",
   "metadata": {},
   "source": [
    "> - Cheminformatics is a field of information technology that focuses on the collection, storage, analysis, and manipulation of chemical data.\n",
    "> - The chemical data of interest typically includes information on small molecule formulas, structures, properties, spectra, and activities (biological or industrial)\n",
    "\n",
    "David S. Wishart, 2015. _\"Introduction to Cheminformatics\"_, Curr. Protoc. Bioinform. 53: 14.1.1-14.1.21. doi: 10.1002/0471250953.bi1401s53\n",
    "\n",
    "Here, we will have a small introduction to a package widely used for cheminformatics, [RDKit](https://www.rdkit.org/)."
   ]
  },
  {
   "cell_type": "markdown",
   "id": "cc0f2d01-20ef-4c2b-94b3-976eacf0d797",
   "metadata": {
    "tags": []
   },
   "source": [
    "# What is RDKit?\n",
    "\n",
    "RDKit is an open source package created originally in C++ for dealing with molecules. It also has a full Python API, and can be used in python scripts or notebooks, making it very convenient.With RDKit, it is possible to:\n",
    "- Read and write molecular files in various molecular formats (SMILES, SDF, PDB...)\n",
    "- Depict and visualize molecules in 2D\n",
    "- Geerate various types of molecular fingerprints\n",
    "- Calculate molecular properties (descriptors)\n",
    "- Generate 3D conformers and simple energy minimizations\n",
    "- Serach for substructures\n",
    "- Perform reactions\n",
    "- etc.\n",
    "\n",
    "This is just a small list of what is possible with RDKit. The full package has many, *many* more capabilities, and will not be fully described here. I encourage you to explore the RDKit page for more information."
   ]
  },
  {
   "cell_type": "markdown",
   "id": "1377c007-ba3b-427b-a863-f88645cc009d",
   "metadata": {},
   "source": [
    "## RDKit Structure\n",
    "RDKit is organized in subpackages. You can find the full tree [here](https://www.rdkit.org/docs/source/rdkit.html). Here are some of the most important subpackages:\n",
    "\n",
    "| Module | Description   |\n",
    "|------|------|\n",
    "|   `Chem`  | The main RDKit module, contains the most used tools. \"A module for molecules and stuff\" ([RDKit website](https://www.rdkit.org/docs/source/rdkit.Chem.html#module-rdkit.Chem)) |\n",
    "| `Chem.AllChem` | To speed up loading time, more advanced and less used functionalit are not loaded by default. To get access to the full set of chemistry tools, you must load the `AllChem` submodule. ([API](https://www.rdkit.org/docs/source/rdkit.Chem.AllChem.html#module-rdkit.Chem.AllChem)). See a more detailed explanation of the `Chem` vs `AllChem` difference [here](https://rdkit.org/docs/GettingStartedInPython.html#chem-vs-allchemhttps://rdkit.org/docs/GettingStartedInPython.html#chem-vs-allchem).|\n",
    "| `Chem.Descriptors` | Submodule to calculate molecular properties (descriptors) ([API](https://www.rdkit.org/docs/source/rdkit.Chem.Descriptors.html#module-rdkit.Chem.Descriptors)) |\n",
    "| `Chem.Draw` | Functionality to draw molecules ([API](https://www.rdkit.org/docs/source/rdkit.Chem.Draw.html)) |\n",
    "| `ML` | Machine-learning related code ([API](https://www.rdkit.org/docs/source/rdkit.ML.html#rdkit-ml-package)) |\n",
    "\n"
   ]
  },
  {
   "cell_type": "markdown",
   "id": "8844c79b-d2d4-44c5-b59e-22ce6e68cdee",
   "metadata": {},
   "source": [
    "## Other Cheminformatics Packages\n",
    "Although it is probably the most used package for cheminformatics, RDKit is not he only one, and other packages may have distinct advantages. Here's a small list of alternatives:\n",
    "\n",
    "- [OpenBabel](https://openbabel.org/)\n",
    "- [MayaChemTools](http://www.mayachemtools.org/)\n",
    "- [Chemistry Development Kit (CDK)](https://cdk.github.io/)\n",
    "- [OEChem TK (OpenEye/Cadence Software)](https://www.eyesopen.com/oechem-tk)"
   ]
  },
  {
   "cell_type": "markdown",
   "id": "e7c82e60-5cca-4e68-96b1-ed4904c9ad76",
   "metadata": {},
   "source": [
    "# The SMILES Molecular Format\n",
    "SMILES (_\"Simplified Molecular Input Line Entry System\"_) is a plain text notation used\n",
    "to represnt molecules in a compact, human readable format. It is widely used in computational\n",
    "chemistry and cheminformatics.\n",
    "\n",
    "In the SMILES format,\n",
    " - **Atoms** are represented by their chemical symbol\n",
    "   - Aromatic atoms are represnted in lowercase\n",
    "   - Hydrogens are implicit, but can be explicitly added if needed\n",
    " - **Bonds** are represented by symbols as:\n",
    "   - Single bonds: \"-\"\n",
    "   - Double bonds: \"=\"\n",
    "   - Triple bonds: \"#\"\n",
    "   - When not indicated, single bonds are assumed\n",
    " - **Branches** in molecules are denoted by writing the branch atoms in parenthesis\n",
    " - **Rings** are formed by using numbers to indicate the connection atoms\n",
    " - **Stereochemistry** can be indicated with special symnbols for chirality and double bond configurations\n",
    " \n",
    " Here are a couple of examples:\n",
    "<div>\n",
    "<img src=\"media/SMILES.png\" width=\"900\" height=350 style=\"background-color:white;padding:20px;margin:auto\"/>\n",
    "</div>\n",
    " \n",
    " "
   ]
  },
  {
   "cell_type": "markdown",
   "id": "30df988d-4fbd-42d1-9deb-a17d67c93f49",
   "metadata": {},
   "source": [
    " ## Some downsides of SMILES:\n",
    " - SMILES are not unique. There may be different SMILES strings that refer to the same molecule. For eample:\n",
    "     - Aspirin can also be written as: `O=C(C)Oc1ccccc1C(=O)O`\n",
    "     - Caffeine can also be written as: `Cn1c(=O)c2c(ncn2C)n(C)c1=O`\n",
    "     - Note that this can actually be an advantage for data augmentation.\n",
    "     \n",
    " - Not all SMILES are valid\n",
    "     - A small change of 1 character may render the whole SMILES invalid.\n",
    "\n",
    "Still, as it is the simplest and most used format, we will use it here.\n",
    "     \n",
    "## More information about the SMILES laguage can be found in:\n",
    "  - [The OpenSMILES Specification](http://opensmiles.org/opensmiles.html)\n",
    "  - [SMILES - A Simplified Chemical Language (Daylight)](https://www.daylight.com/dayhtml/doc/theory/theory.smiles.html)"
   ]
  },
  {
   "cell_type": "markdown",
   "id": "a9526f48-febf-435a-b6b2-37536b38bcf4",
   "metadata": {},
   "source": [
    "## Other Molecular Formats\n",
    "SMILES is not the only line-input format. Here's some alternatives:\n",
    "- [InChI](https://www.inchi-trust.org/): The International Chemical Identifier. Maintained by IUPAC it was developed to help database searches. All molecules have a unique InChI string.\n",
    "    - Caffeine: `InChI=1S/C8H10N4O2/c1-10-4-9-6-5(10)7(13)12(3)8(14)11(6)2/h4H,1-3H3`\n",
    "    - Aspirin: `InChI=1S/C9H8O4/c1-6(10)13-8-5-3-2-4-7(8)9(11)12/h2-5H,1H3,(H,11,12)`\n",
    "- [SELFIES](https://github.com/aspuru-guzik-group/selfies): Developed specifically for machine learning tasks. Every SELFIE is a valid molecule, and there's a unique SELFIE for every molecule.\n",
    "    - Aspirin: `[O][=C][Branch1][C][C][O][C][=C][C][=C][C][=C][Ring1][=Branch1][C][=Branch1][C][=O][O]`\n",
    "    - Caffeine: `[C][N][C][=Branch1][C][=O][C][=C][Branch1][#Branch1][N][=C][N][Ring1][Branch1][C][N][Branch1][C][C][C][Ring1][N][=O]`\n",
    "    \n",
    "We wil be using SMILES here, but feel free to use other formats!\n",
    "    "
   ]
  },
  {
   "cell_type": "markdown",
   "id": "517a28c0-a191-4f97-ac81-24e1e826a71e",
   "metadata": {
    "tags": []
   },
   "source": [
    "# Getting Started with RDKit"
   ]
  },
  {
   "cell_type": "code",
   "execution_count": null,
   "id": "ae81e76b-fdff-454c-8e9b-1809a20e635a",
   "metadata": {
    "tags": []
   },
   "outputs": [],
   "source": [
    "import rdkit\n",
    "from rdkit import Chem\n",
    "from rdkit.Chem import AllChem\n",
    "\n",
    "print(\"RDKit version: \", rdkit.__version__)"
   ]
  },
  {
   "cell_type": "markdown",
   "id": "5654a78d-3d3d-44a5-9109-3760c1da8778",
   "metadata": {},
   "source": [
    "Let's start with a simple example. We can initialize a molecule object from the SMILES code for it. For example, here is the Aspirin molecule:"
   ]
  },
  {
   "cell_type": "code",
   "execution_count": null,
   "id": "09033fcc-174f-4499-94ad-c2aad93854ff",
   "metadata": {
    "tags": []
   },
   "outputs": [],
   "source": [
    "aspirin = Chem.MolFromSmiles('O=C(C)Oc1ccccc1C(=O)O')"
   ]
  },
  {
   "cell_type": "markdown",
   "id": "5b0429b9-1429-47e0-84d8-4ef2cd9be562",
   "metadata": {},
   "source": [
    "All that this command did was to create the object. To visualize the molecule, just type the name:"
   ]
  },
  {
   "cell_type": "code",
   "execution_count": null,
   "id": "42d682c9-4a5a-41d9-bccb-661d43273d84",
   "metadata": {
    "tags": []
   },
   "outputs": [],
   "source": [
    "aspirin"
   ]
  },
  {
   "cell_type": "markdown",
   "id": "c51ff576-508b-4735-95ee-464a4c2b81de",
   "metadata": {},
   "source": [
    "Once the `Mol` object is created, we can convert it to other formats, as below (The \"mol\" format is basically the same as the \"SDF\" format):"
   ]
  },
  {
   "cell_type": "code",
   "execution_count": null,
   "id": "40930598-ddac-4bc3-8ebc-7a4efcb823bf",
   "metadata": {
    "tags": []
   },
   "outputs": [],
   "source": [
    "print('SMILES: ', Chem.MolToSmiles(aspirin))\n",
    "print('InChI:  ', Chem.MolToInchi(aspirin))\n",
    "print('Mol Format:\\n-----------')\n",
    "print(Chem.MolToMolBlock(aspirin))\n",
    "print('PDB Format:\\n-----------')\n",
    "print(Chem.MolToPDBBlock(aspirin))"
   ]
  },
  {
   "cell_type": "markdown",
   "id": "de71dc83-c61d-4531-8849-ad24d1f5bb3e",
   "metadata": {
    "tags": []
   },
   "source": [
    "<div class=\"alert alert-info\">\n",
    "<b>NOTE:</b> \n",
    "\n",
    "Notice the zeroes in the \"Z\" coordinate for the Mol format, and in all coordinates for the PDB format. \n",
    "This happens because 3D coordinates are only calculated if explicitly requested, or if needed for stereochemistry assignment. \n",
    "The Mol format inlcudes stereochemistry, which makes RDKit calculate the coordinates to assign those. Still, since \n",
    "it's just to assign stereochemistry, it doesn't neet the \"Z\" coordinates.\n",
    "The PDB format does not contain stereochemistry, so the coordinates are never calculated unless explicitly requested. (More on this later.)\n",
    "\n",
    "There's a discussion about that [here](https://sourceforge.net/p/rdkit/mailman/message/36361173/).\n",
    "</div>"
   ]
  },
  {
   "cell_type": "code",
   "execution_count": null,
   "id": "8e09242b-9537-420e-80eb-bc2723035e65",
   "metadata": {
    "tags": []
   },
   "outputs": [],
   "source": [
    "caffeine=Chem.MolFromSmiles('O=C(N(C1=O)C)N(C2=C1N(C=N2)C)C')\n",
    "caffeine"
   ]
  },
  {
   "cell_type": "code",
   "execution_count": null,
   "id": "f79b9885-2241-44bb-8091-9b0b5fecf0c1",
   "metadata": {
    "tags": []
   },
   "outputs": [],
   "source": [
    "# exercise: Try to generate the caffeine molecule in other formats as well."
   ]
  },
  {
   "cell_type": "markdown",
   "id": "7a9022ae-99c7-4dd9-9be0-52b795761923",
   "metadata": {},
   "source": [
    "# Visualizing\n",
    "Here's some other ways to visualize structures:"
   ]
  },
  {
   "cell_type": "code",
   "execution_count": null,
   "id": "456a90d2-d2df-4087-9753-806b222837a1",
   "metadata": {
    "tags": []
   },
   "outputs": [],
   "source": [
    "import pandas as pd"
   ]
  },
  {
   "cell_type": "code",
   "execution_count": null,
   "id": "5085dfd5-31ec-4618-8c21-b469098b62e3",
   "metadata": {
    "tags": []
   },
   "outputs": [],
   "source": [
    "aminoacids_df = pd.read_csv('data/aminoacids.csv')\n",
    "aminoacids_df.head()"
   ]
  },
  {
   "cell_type": "code",
   "execution_count": null,
   "id": "b74e9b32-dce6-472b-b807-f6446f1d5fb3",
   "metadata": {
    "tags": []
   },
   "outputs": [],
   "source": [
    "aminoacids_mols = [Chem.MolFromSmiles(x) for x in aminoacids_df.SMILES ]\n",
    "aminoacids_mols"
   ]
  },
  {
   "cell_type": "markdown",
   "id": "2c9e9a76-8fdd-4826-ae54-d9ddb4e753c4",
   "metadata": {},
   "source": [
    "We can visualize those in a grid:"
   ]
  },
  {
   "cell_type": "code",
   "execution_count": null,
   "id": "5162113b-1181-420e-8fd8-034b7b3991e2",
   "metadata": {
    "tags": []
   },
   "outputs": [],
   "source": [
    "aminoacids_names = list(aminoacids_df.name.values)\n",
    "aminoacids_names"
   ]
  },
  {
   "cell_type": "code",
   "execution_count": null,
   "id": "66210932-f5db-40ce-9fad-962ea785e51a",
   "metadata": {
    "tags": []
   },
   "outputs": [],
   "source": [
    "from rdkit.Chem import Draw"
   ]
  },
  {
   "cell_type": "code",
   "execution_count": null,
   "id": "c60fa39f-9320-4dd0-b035-c87cbd54c216",
   "metadata": {
    "tags": []
   },
   "outputs": [],
   "source": [
    "Draw.MolsToGridImage(aminoacids_mols, # Everything below here is optional\n",
    "                     molsPerRow=4,\n",
    "                     subImgSize=(200,200),\n",
    "                     legends=aminoacids_names,\n",
    "                     useSVG=True)"
   ]
  },
  {
   "cell_type": "markdown",
   "id": "3d17c170-e755-4b58-9c15-951b066b1453",
   "metadata": {},
   "source": [
    "# The PandasTools Module\n",
    "Much of the work can also be done directly inside a Pandas DataFrame:"
   ]
  },
  {
   "cell_type": "code",
   "execution_count": null,
   "id": "4eb27218-5a4a-41ff-b5f7-e4db196b0a3b",
   "metadata": {
    "tags": []
   },
   "outputs": [],
   "source": [
    "from rdkit.Chem import PandasTools\n",
    "PandasTools.RenderImagesInAllDataFrames()"
   ]
  },
  {
   "cell_type": "code",
   "execution_count": null,
   "id": "38304903-6401-4b9e-b5a7-73739333826c",
   "metadata": {
    "tags": []
   },
   "outputs": [],
   "source": [
    "PandasTools.AddMoleculeColumnToFrame(aminoacids_df, smilesCol='SMILES')\n",
    "aminoacids_df.head()"
   ]
  },
  {
   "cell_type": "markdown",
   "id": "880683f0-c788-421c-99e2-dfa7ab0cd59c",
   "metadata": {},
   "source": [
    "# Molecular Descriptors\n",
    "We can use RDKit to generate a variety of molecular descriptors."
   ]
  },
  {
   "cell_type": "code",
   "execution_count": null,
   "id": "5ad4ae0c-2d80-413e-9fea-9dcd7851fece",
   "metadata": {
    "tags": []
   },
   "outputs": [],
   "source": [
    "from rdkit.Chem import Descriptors"
   ]
  },
  {
   "cell_type": "markdown",
   "id": "95ad8eec-929e-498c-ba37-77e7085b443a",
   "metadata": {},
   "source": [
    "## Simple Descriptors"
   ]
  },
  {
   "cell_type": "code",
   "execution_count": null,
   "id": "f73d1026-223f-491f-b834-6f38e34e93d4",
   "metadata": {
    "tags": []
   },
   "outputs": [],
   "source": [
    "caffeine"
   ]
  },
  {
   "cell_type": "code",
   "execution_count": null,
   "id": "7f06da06-ea52-4262-9af5-3153c54c1dbe",
   "metadata": {
    "tags": []
   },
   "outputs": [],
   "source": [
    "# Some descriptors for Caffeine:\n",
    "print(\"Molecular Weight: \", Descriptors.MolWt(caffeine))\n",
    "print(\"Exact Molecular Weight: \", Descriptors.ExactMolWt(caffeine))\n",
    "print(\"LogP: \", Descriptors.MolLogP(caffeine))\n",
    "print(\"Number of Valence Electrons: \", Descriptors.NumValenceElectrons(caffeine))\n",
    "print(\"Number of Hydrogen Bond Acceptors: \", Descriptors.NumHAcceptors(caffeine))\n",
    "print(\"Number of Hydrogen Bond Donors: \", Descriptors.NumHDonors(caffeine))"
   ]
  },
  {
   "cell_type": "markdown",
   "id": "5be51e28-576e-4634-88f8-6457ede65d7a",
   "metadata": {},
   "source": [
    "For a complete list of available descriptors, see the [here](https://rdkit.org/docs/GettingStartedInPython.html#list-of-available-descriptors)."
   ]
  },
  {
   "cell_type": "markdown",
   "id": "1abc3bdc-90f5-47a8-acb1-aabbde08a4bc",
   "metadata": {},
   "source": [
    "## Properties in Pandas DataFrame\n",
    "You can also easily add columns to a Pandas DataFrame:"
   ]
  },
  {
   "cell_type": "code",
   "execution_count": null,
   "id": "e53e60e0-98a7-47da-81f1-a1c6e00574b7",
   "metadata": {
    "tags": []
   },
   "outputs": [],
   "source": [
    "aminoacids_df['MolWt'] = [Descriptors.MolWt(x) for x in aminoacids_df.ROMol]\n",
    "aminoacids_df.head()"
   ]
  },
  {
   "cell_type": "markdown",
   "id": "4008266b-7101-4808-b253-9713ec81a59e",
   "metadata": {},
   "source": [
    "## Molecular Fingerprints\n",
    "\n",
    "Molecular fingerprints are a way to encode the structural characteristics of a molecule into a bitvector. In general terms, a fingerprinting algorithm examines the molecule and generates patterns for atoms and groups in the molecule. Each pattern is hashed to produce a series of bits which are added (logical OR) to produce the final bitvector, called the \"fingerprint.\" More details on the theory behind fingerprints can be found on [Fingerprints - Screening and Similarity (Daylight)](https://www.daylight.com/dayhtml/doc/theory/theory.finger.html).\n",
    "\n",
    "One very useful consequence is that similar molecules have, in most cases, similar fingerprints, and the \"difference\" between the molecules can be calculated mathematically. Many similarity metrics have been proposed to compare molecules, and a brief summare can be found [here](https://chem.libretexts.org/Courses/Intercollegiate_Courses/Cheminformatics/06%3A_Molecular_Similarity/6.02%3A_Similarity_Coefficients). \n",
    "For example, the most used measure of similarity between two molecules is the *Jaccard-Tanimoto Similarity*, defined as the ratio of the intersection and union of two sets:\n",
    "\n",
    "$$\n",
    "S_{AB} = \\frac{|A \\cap B|}{|A \\cup B|} = \\frac{c}{a+b-c} \\tag{1}\n",
    "$$\n",
    "where:\n",
    "- $a$: Features only present in molecule A\n",
    "- $b$: Features only present in molecule B\n",
    "- $c$: Features present in *both* molecules\n",
    "\n",
    "There are different ways to generate patterns, and that defines the type of fingerprint. For example,\n",
    "- MACCS (Molecular ACCess System) Keys: Defined by a commercial company, contains 966 structural keys. The [public set](https://janiceto.github.io/ml-knowledge-base/02-data-preparation/feature-engineering/maccs.html) has only 166 keys, and is implemented in RDKit.\n",
    "- [ECFP](https://pubs.acs.org/doi/10.1021/ci100050t) (Extended Connecticity Fingerprints): Probably the most used kind of fingerprint, uses an algorithm that iterates over each atom in the molecule and traces all paths starting from that atom, up to some determined length. For each path, it creates a separate hash to be added.  In the end, the patterns are combined (\"folded\") into a single bitvector, wich is usually 1024 or 2048 bits long (but other sizes can be used as well). See also the description [here](https://janiceto.github.io/ml-knowledge-base/02-data-preparation/feature-engineering/morgan.html).\n",
    "\n",
    "Besides those two, RDKit provides a number of different fingerprints (see [here](https://www.rdkit.org/docs/GettingStartedInPython.html#fingerprinting-and-molecular-similarity).)"
   ]
  },
  {
   "cell_type": "markdown",
   "id": "09fbd2b3-6c05-4e0d-b703-2be24d05d366",
   "metadata": {},
   "source": [
    "<div class=\"alert alert-info\">\n",
    "<b>NOTE:</b> \n",
    "\n",
    "The fingerprinting modules are not loaded by default with the `Chem` module, and we need to request the full `AllChem` to use it.\n",
    "</div>"
   ]
  },
  {
   "cell_type": "code",
   "execution_count": null,
   "id": "09d67f1b-b11a-4d9e-a5cd-b09922a65203",
   "metadata": {
    "tags": []
   },
   "outputs": [],
   "source": [
    "from rdkit.Chem import AllChem"
   ]
  },
  {
   "cell_type": "markdown",
   "id": "95bee102-0e0e-4033-8382-53379eb14b8d",
   "metadata": {},
   "source": [
    "First, let's create a fingerprint generator object. Here, we use Morgan (ECFP) with radius 2:"
   ]
  },
  {
   "cell_type": "code",
   "execution_count": null,
   "id": "88c32495-3a21-418f-b2a2-d0d41e39be55",
   "metadata": {
    "tags": []
   },
   "outputs": [],
   "source": [
    "fpgen = AllChem.GetMorganGenerator(radius=2)"
   ]
  },
  {
   "cell_type": "markdown",
   "id": "4c055b93-108f-4595-a988-9fd1f037c9da",
   "metadata": {},
   "source": [
    "We can use this to generate fingerprints for molecules. For example, we can generate the fingerprint directly as a NumPy array:"
   ]
  },
  {
   "cell_type": "code",
   "execution_count": null,
   "id": "b0cd5073-3218-4536-bebd-73ebcb71ab0d",
   "metadata": {
    "tags": []
   },
   "outputs": [],
   "source": [
    "fpgen.GetCountFingerprintAsNumPy(caffeine)"
   ]
  },
  {
   "cell_type": "markdown",
   "id": "046c01b2-25f0-4e80-920d-eebeab1de68e",
   "metadata": {},
   "source": [
    "Or, we can generate as a `bitvector` object:"
   ]
  },
  {
   "cell_type": "code",
   "execution_count": null,
   "id": "2c1737b0-14f9-44aa-aabc-6a8be9a91e4a",
   "metadata": {
    "tags": []
   },
   "outputs": [],
   "source": [
    "fpgen.GetFingerprint(caffeine)"
   ]
  },
  {
   "cell_type": "markdown",
   "id": "3eb2cf87-b527-44d2-89f9-81be30a9221e",
   "metadata": {},
   "source": [
    "The `DataStructs` subpackage contains functions to operate with fingerprints (amongst many other things)"
   ]
  },
  {
   "cell_type": "code",
   "execution_count": null,
   "id": "1ab8afd0-072f-4379-870f-cb7e706c5f2c",
   "metadata": {
    "tags": []
   },
   "outputs": [],
   "source": [
    "from rdkit import DataStructs"
   ]
  },
  {
   "cell_type": "code",
   "execution_count": null,
   "id": "dddd4fb4-664d-4905-affb-00783d2190f5",
   "metadata": {
    "tags": []
   },
   "outputs": [],
   "source": [
    "caffeine_fp = fpgen.GetFingerprint(caffeine)\n",
    "aspirin_fp  = fpgen.GetFingerprint(aspirin)\n",
    "\n",
    "print(f\"Tanimoto Similarity between Caffeine and Aspirin: {DataStructs.TanimotoSimilarity(caffeine_fp,aspirin_fp):0.2f}\")"
   ]
  },
  {
   "cell_type": "markdown",
   "id": "e9a3480d-5f59-477a-a555-07b2a40b2953",
   "metadata": {},
   "source": [
    "Those molecules are nothing alike. What if we look at some caffeine metabolites?\n",
    "\n",
    "Caffeine is [rapidly absorbed by the gastrointestinal tract and it is metabolized in the liver to form three major metabolites](https://doi.org/10.3390/molecules24162863): 84% paraxanthine (1,7-dimethylxanthine), 12% theobromine (3,7-dimethylxanthine), and 4% theophylline (1,3-dimethylxanthine):"
   ]
  },
  {
   "cell_type": "code",
   "execution_count": null,
   "id": "8fd5092a-5a41-4230-8bca-9f8c789dbb9c",
   "metadata": {
    "tags": []
   },
   "outputs": [],
   "source": [
    "paraxanthine = Chem.MolFromSmiles('Cn1c(=O)[nH]c2ncn(C)c2c1=O')\n",
    "theobromine  = Chem.MolFromSmiles('Cn1cnc2c1c(=O)[nH]c(=O)n2C')\n",
    "theophylline = Chem.MolFromSmiles('Cn1c(=O)c2[nH]cnc2n(C)c1=O')\n",
    "\n",
    "mols  = [caffeine, paraxanthine, theobromine, theophylline]\n",
    "names = ['caffeine', 'paraxanthine', 'theobromine', 'theophylline']\n",
    "\n",
    "# Calculate the similarity between the molecules and Caffeine\n",
    "mols_fps = [fpgen.GetFingerprint(x) for x in mols]\n",
    "mols_sim = [DataStructs.TanimotoSimilarity(caffeine_fp,x) for x in mols_fps]\n",
    "\n",
    "# This is to align all the molecules to a common scaffold\n",
    "template = Chem.Scaffolds.MurckoScaffold.GetScaffoldForMol(caffeine)\n",
    "_ = AllChem.Compute2DCoords(template)\n",
    "for m in mols:\n",
    "    _ = AllChem.GenerateDepictionMatching2DStructure(m,template)\n",
    "\n",
    "legends = []\n",
    "for name, sim in zip(names,mols_sim):\n",
    "    legends.append(f\"{name}\\n{sim:0.2f}\")\n",
    "Draw.MolsToGridImage(mols, \n",
    "                     molsPerRow=4,\n",
    "                     subImgSize=(200,200),\n",
    "                     legends=legends,\n",
    "                     useSVG=True)"
   ]
  },
  {
   "cell_type": "markdown",
   "id": "a3cc4de6-6dd9-49fd-aca7-d1e190276f02",
   "metadata": {},
   "source": [
    "# 3D Structure"
   ]
  },
  {
   "cell_type": "markdown",
   "id": "a5014de4-cd2d-412b-9abf-527dd355ecd3",
   "metadata": {},
   "source": [
    "Finally, how about 3D structures? We can use RDKit to generate 3D structures using a force field. It's not perfect, but its OK."
   ]
  },
  {
   "cell_type": "markdown",
   "id": "68a52bb8-f778-456c-89d6-9ad04e2a878d",
   "metadata": {},
   "source": [
    "To create a 3D representation of the molecule, we needd to:\n",
    "\n",
    "1. Add hydrogens to the molecule\n",
    "2. Generate 3D structure using the ETKDG method\n",
    "3. Optimize the structure with a force field"
   ]
  },
  {
   "cell_type": "code",
   "execution_count": null,
   "id": "8c2cce23-3a82-4330-befc-2d6e107fb023",
   "metadata": {
    "tags": []
   },
   "outputs": [],
   "source": [
    "# Create a 3D representation of the molecule\n",
    "def molecule_to_3d(molecule):\n",
    "    mol = Chem.Mol(molecule)\n",
    "    mol = AllChem.AddHs(mol, addCoords=True)\n",
    "    params = AllChem.ETKDGv3()\n",
    "    params.randomSeed = 42 # optional random seed for reproducibility\n",
    "    AllChem.EmbedMolecule(mol,params)\n",
    "    AllChem.MMFFOptimizeMolecule(mol)\n",
    "    return mol"
   ]
  },
  {
   "cell_type": "markdown",
   "id": "7e2fd736-09ab-4ac1-8ca4-4522f2995dd8",
   "metadata": {},
   "source": [
    "Let's create a 3D representation of Aspirin, and visualize with RDKit:"
   ]
  },
  {
   "cell_type": "code",
   "execution_count": null,
   "id": "ecf00015-46c9-4b0e-b667-03aa9ee2d9c7",
   "metadata": {
    "tags": []
   },
   "outputs": [],
   "source": [
    "aspirin_3d = molecule_to_3d(aspirin)\n",
    "aspirin_3d"
   ]
  },
  {
   "cell_type": "markdown",
   "id": "2749b3d0-06d6-497d-9187-2992955f437a",
   "metadata": {},
   "source": [
    "That's OK, but it could be better, no?\n",
    "\n",
    "let's use another nice package to visualize the structure in 3D. The package is \"Py3DMol\", which embeds the 3D molecular viewer [3dmol](http://3dmol.org/) in the Jupyter Notebook."
   ]
  },
  {
   "cell_type": "code",
   "execution_count": null,
   "id": "002f982b-13aa-4d66-9ba3-dc87b628949f",
   "metadata": {
    "tags": []
   },
   "outputs": [],
   "source": [
    "import py3Dmol"
   ]
  },
  {
   "cell_type": "code",
   "execution_count": null,
   "id": "516325f7-85ca-44b4-8926-5b3ab09f307c",
   "metadata": {
    "tags": []
   },
   "outputs": [],
   "source": [
    "view = py3Dmol.view(\n",
    "    data=Chem.MolToMolBlock(aspirin_3d),  # Convert the RDKit molecule for py3Dmol\n",
    "    style={\"stick\": {}, \"sphere\": {\"scale\": 0.3}}\n",
    ")\n",
    "view.zoomTo()"
   ]
  },
  {
   "cell_type": "markdown",
   "id": "122be87b-785d-4b73-9e02-c6cf652f30b1",
   "metadata": {},
   "source": [
    "There's a nice tutorial of Py3DMol [here](https://www.insilicochemistry.io/tutorials/foundations/chemistry-visualization-with-py3dmol)."
   ]
  },
  {
   "cell_type": "markdown",
   "id": "f2b2dbc0-bf18-44a7-9173-3fdb2551ea4f",
   "metadata": {
    "tags": []
   },
   "source": [
    "<div class=\"alert alert-success\">\n",
    "<b>That's it!</b> \n",
    "We're done for today.</div>"
   ]
  },
  {
   "cell_type": "markdown",
   "id": "cff15a49-2b92-4f69-8479-a77ee0460c5f",
   "metadata": {},
   "source": [
    "# Dig Deeper\n",
    "We barely scratched the surface on what RDKit can do. To dig deeper, take a look at:\n",
    "\n",
    "- Charles J. Weiss, Scientific Computing for Chemists with Python, Chapter 15: [Cheminformatics with RDKit](https://weisscharlesj.github.io/SciCompforChemists/notebooks/chapter_15/chap_15_notebook.html) (Visited: 8/15/2024)\n",
    "- Philippe Schwaller, Practical Programming in Chemistry, [Lecture 5: Cheminformatics and RDKit: An Introduction](https://schwallergroup.github.io/practical-programming-in-chemistry/tutorials/lecture_05/01_rdkit_basics.html) (Visited: 8/14/2024)\n",
    "- Greg Landrum, [RDKit Documentation](https://www.rdkit.org/docs/index.html)\n",
    "    - [RDKit Blog](https://greglandrum.github.io/rdkit-blog/) (8/15/2024) \n",
    "    - [Getting Started with RDKit in Python](https://www.rdkit.org/docs/GettingStartedInPython.html) (8/14/2024)\n",
    "    - [The RDKit Book](https://www.rdkit.org/docs/RDKit_Book.html) (8/15/2024)\n",
    "- Pat Walters, [Practical Cheminformatics Blog](https://practicalcheminformatics.blogspot.com/) (8/14/2024)\n",
    "    - Collab Notebook: [A_Whirlwind_Introduction_To_The_RDKit](https://colab.research.google.com/github/PatWalters/practical_cheminformatics_tutorials/blob/main/fundamentals/A_Whirlwind_Introduction_To_The_RDKit.ipynb) (8/14/2024)\n",
    "\n",
    "- Other Collab Notebooks:\n",
    "    - Oliver Koch, [Cheminformatics](https://colab.research.google.com/github/kochgroup/intro_pharma_ai/blob/main/Notebooks_EN/03 - Cheminformatics.ipynb)\n"
   ]
  },
  {
   "cell_type": "code",
   "execution_count": null,
   "id": "1c961450-e3c9-4d3a-a251-318fb6ed9d73",
   "metadata": {},
   "outputs": [],
   "source": []
  }
 ],
 "metadata": {
  "kernelspec": {
   "display_name": "test_class_env",
   "language": "python",
   "name": "test_class_env"
  },
  "language_info": {
   "codemirror_mode": {
    "name": "ipython",
    "version": 3
   },
   "file_extension": ".py",
   "mimetype": "text/x-python",
   "name": "python",
   "nbconvert_exporter": "python",
   "pygments_lexer": "ipython3",
   "version": "3.12.5"
  },
  "toc-autonumbering": true
 },
 "nbformat": 4,
 "nbformat_minor": 5
}
